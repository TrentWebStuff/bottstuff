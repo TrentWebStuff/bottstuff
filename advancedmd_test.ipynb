{
 "cells": [
  {
   "cell_type": "code",
   "execution_count": 173,
   "metadata": {},
   "outputs": [],
   "source": [
    "from advancedmd.Referral import Referral\n",
    "from advancedmd.Visit import Visit\n",
    "from advancedmd.Patient import Patient\n",
    "from advancedmd.Util.Otable import Otable\n",
    "from tabulate import tabulate\n",
    "from advancedmd.ContactInformation import ContactInformation\n",
    "from advancedmd.Patients import Patients\n",
    "\n"
   ]
  },
  {
   "cell_type": "code",
   "execution_count": 177,
   "metadata": {},
   "outputs": [
    {
     "name": "stdout",
     "output_type": "stream",
     "text": [
      "['contact_information', 'date_of_birth', 'first_name', 'gender', 'last_name', 'medical_history', 'patient_id', 'referrals']\n"
     ]
    }
   ],
   "source": [
    "\n",
    "\n",
    "json_url = './advancedmd/Data/patients.json'  # Replace with the actual URL of the JSON file\n",
    "patients_data = Patients(json_url)\n",
    "myPatientTable = Otable(patients_data.patients)\n",
    "#referral_data = patients_data.get_all_referrals()\n"
   ]
  },
  {
   "cell_type": "code",
   "execution_count": 179,
   "metadata": {},
   "outputs": [
    {
     "name": "stdout",
     "output_type": "stream",
     "text": [
      "| contact_information                                                                | date_of_birth   | first_name   | gender   | last_name   | medical_history                                                                                | patient_id   | referrals                                                                                                  |\n",
      "|:-----------------------------------------------------------------------------------|:----------------|:-------------|:---------|:------------|:-----------------------------------------------------------------------------------------------|:-------------|:-----------------------------------------------------------------------------------------------------------|\n",
      "| email: johndoe@example.com, phone: 1234567890, address: 123 Main St, City          | 1990-05-15      | John         | Male     | Doe         | <advancedmd.Visit.Visit object at 0x13e89a2f0>, <advancedmd.Visit.Visit object at 0x13e89b280> | P001         | <advancedmd.Referral.Referral object at 0x13e89a2c0>                                                       |\n",
      "| email: janesmith@example.com, phone: 9876543210, address: 456 Oak Ave, Town        | 1985-09-25      | Jane         | Female   | Smith       | <advancedmd.Visit.Visit object at 0x13e899f90>                                                 | P002         |                                                                                                            |\n",
      "| email: michaeljohnson@example.com, phone: 5551234567, address: 789 Elm St, Village | 1978-12-03      | Michael      | Male     | Johnson     |                                                                                                | P003         | <advancedmd.Referral.Referral object at 0x13e898190>, <advancedmd.Referral.Referral object at 0x13e899ae0> |\n",
      "| email: emilydavis@example.com, phone: 3217896540, address: 987 Pine St, County     | 1995-02-08      | Emily        | Female   | Davis       | <advancedmd.Visit.Visit object at 0x13e898ee0>, <advancedmd.Visit.Visit object at 0x13e89bb20> | P004         |                                                                                                            |\n",
      "| email: davidwilson@example.com, phone: 9990001111, address: 555 Maple Dr, City     | 2000-11-12      | David        | Other    | Wilson      | <advancedmd.Visit.Visit object at 0x13e898e80>                                                 | P005         | <advancedmd.Referral.Referral object at 0x13e899d20>, <advancedmd.Referral.Referral object at 0x13e89a140> |\n",
      "| email: sarahmiller@example.com, phone: 5557891234, address: 789 Oak St, Town       | 1982-07-20      | Sarah        | Female   | Miller      | <advancedmd.Visit.Visit object at 0x13e898fa0>                                                 | P006         | <advancedmd.Referral.Referral object at 0x13e89a8f0>                                                       |\n",
      "| email: robertjohnson@example.com, phone: 7771234567, address: 123 Elm St, City     | 1970-04-12      | Robert       | Male     | Johnson     | <advancedmd.Visit.Visit object at 0x13e89bf10>, <advancedmd.Visit.Visit object at 0x13e89b9a0> | P007         |                                                                                                            |\n",
      "| email: amyroberts@example.com, phone: 4445556666, address: 456 Oak St, Town        | 1998-10-18      | Amy          | Female   | Roberts     |                                                                                                | P008         | <advancedmd.Referral.Referral object at 0x13e8989d0>                                                       |\n",
      "| email: danieltaylor@example.com, phone: 1112223333, address: 789 Pine St, County   | 1987-03-25      | Daniel       | Male     | Taylor      | <advancedmd.Visit.Visit object at 0x13e899bd0>                                                 | P009         |                                                                                                            |\n",
      "| email: oliviaclark@example.com, phone: 9998887777, address: 555 Maple Dr, City     | 1993-12-01      | Olivia       | Female   | Clark       | <advancedmd.Visit.Visit object at 0x13e898460>, <advancedmd.Visit.Visit object at 0x13e899330> | P010         | <advancedmd.Referral.Referral object at 0x13e89b4c0>                                                       |\n"
     ]
    }
   ],
   "source": [
    "print(myPatientTable.to_markdown())"
   ]
  },
  {
   "attachments": {},
   "cell_type": "markdown",
   "metadata": {},
   "source": []
  }
 ],
 "metadata": {
  "kernelspec": {
   "display_name": "Python 3",
   "language": "python",
   "name": "python3"
  },
  "language_info": {
   "codemirror_mode": {
    "name": "ipython",
    "version": 3
   },
   "file_extension": ".py",
   "mimetype": "text/x-python",
   "name": "python",
   "nbconvert_exporter": "python",
   "pygments_lexer": "ipython3",
   "version": "3.10.11"
  },
  "orig_nbformat": 4
 },
 "nbformat": 4,
 "nbformat_minor": 2
}
