{
 "cells": [
  {
   "cell_type": "code",
   "execution_count": null,
   "metadata": {},
   "outputs": [],
   "source": []
  },
  {
   "cell_type": "code",
   "execution_count": 1,
   "metadata": {},
   "outputs": [],
   "source": [
    "import chainlit as cl"
   ]
  },
  {
   "cell_type": "code",
   "execution_count": 1,
   "metadata": {},
   "outputs": [
    {
     "ename": "ModuleNotFoundError",
     "evalue": "No module named 'advancedmd'",
     "output_type": "error",
     "traceback": [
      "\u001b[0;31m---------------------------------------------------------------------------\u001b[0m",
      "\u001b[0;31mModuleNotFoundError\u001b[0m                       Traceback (most recent call last)",
      "Cell \u001b[0;32mIn[1], line 1\u001b[0m\n\u001b[0;32m----> 1\u001b[0m \u001b[39mfrom\u001b[39;00m \u001b[39madvancedmd\u001b[39;00m\u001b[39m.\u001b[39;00m\u001b[39mtools\u001b[39;00m\u001b[39m.\u001b[39;00m\u001b[39mbot\u001b[39;00m \u001b[39mimport\u001b[39;00m Meeting_Bot\n\u001b[1;32m      3\u001b[0m m_bot \u001b[39m=\u001b[39m Meeting_Bot()\n\u001b[1;32m      4\u001b[0m m_bot\u001b[39m.\u001b[39m_run(\u001b[39m\"\u001b[39m\u001b[39mSummarize this meeting  \u001b[39m\u001b[39m'\u001b[39m\u001b[39m/Users/tpeterson/Library/CloudStorage/GoogleDrive-trenten.peterson@gmail.com/My Drive/Obsidian/Trent-Work/TEST TEST.md\u001b[39m\u001b[39m'\u001b[39m\u001b[39m\"\u001b[39m)\n",
      "\u001b[0;31mModuleNotFoundError\u001b[0m: No module named 'advancedmd'"
     ]
    }
   ],
   "source": [
    "from advancedmd.tools.bot import Meeting_Bot\n",
    "\n",
    "m_bot = Meeting_Bot()\n",
    "m_bot._run(\"Summarize this meeting  '/Users/tpeterson/Library/CloudStorage/GoogleDrive-trenten.peterson@gmail.com/My Drive/Obsidian/Trent-Work/TEST TEST.md'\")"
   ]
  }
 ],
 "metadata": {
  "kernelspec": {
   "display_name": "base",
   "language": "python",
   "name": "python3"
  },
  "language_info": {
   "codemirror_mode": {
    "name": "ipython",
    "version": 3
   },
   "file_extension": ".py",
   "mimetype": "text/x-python",
   "name": "python",
   "nbconvert_exporter": "python",
   "pygments_lexer": "ipython3",
   "version": "3.11.4"
  },
  "orig_nbformat": 4
 },
 "nbformat": 4,
 "nbformat_minor": 2
}
