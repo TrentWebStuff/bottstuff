{
 "cells": [
  {
   "cell_type": "code",
   "execution_count": 1,
   "metadata": {},
   "outputs": [
    {
     "name": "stdout",
     "output_type": "stream",
     "text": [
      "2023-07-01 11:50:23 - Created default config file at /Users/tpeterson/appdev/bottstuff/advancedmd/.chainlit/config.toml\n"
     ]
    }
   ],
   "source": [
    "import openai\n",
    "import json\n",
    "import os\n",
    "import advancedmd\n",
    "import chainlit"
   ]
  },
  {
   "cell_type": "code",
   "execution_count": 3,
   "metadata": {},
   "outputs": [],
   "source": [
    "from langchain import OpenAI\n",
    "from langchain.chat_models import ChatOpenAI\n",
    "from langchain.chains.conversation.memory import ConversationBufferWindowMemory\n",
    "from langchain.tools import BaseTool\n",
    "from langchain.agents import Tool\n",
    "from langchain.tools import DuckDuckGoSearchRun\n",
    "from typing import Any, Dict, Optional, Tuple\n",
    "from langchain.chains.llm import LLMChain\n",
    "from langchain.text_splitter import CharacterTextSplitter \n",
    "from advancedmd.tools.meeting import prompt\n",
    "import os"
   ]
  },
  {
   "cell_type": "code",
   "execution_count": 5,
   "metadata": {},
   "outputs": [],
   "source": [
    "from advancedmd.DataObj.Referral import Referral\n",
    "from advancedmd.DataObj.Visit import Visit\n",
    "from advancedmd.DataObj.Patient import Patient\n",
    "from advancedmd.DataObj.ContactInformation import ContactInformation\n",
    "from advancedmd.DataObj.Patients import Patients\n",
    "from advancedmd.util.Otable import Otable"
   ]
  },
  {
   "cell_type": "code",
   "execution_count": 2,
   "metadata": {},
   "outputs": [
    {
     "name": "stdout",
     "output_type": "stream",
     "text": [
      "\n",
      "\n",
      "\u001b[1m> Entering new  chain...\u001b[0m\n",
      "\u001b[32;1m\u001b[1;3m{\n",
      "    \"action\": \"get meeting summary\",\n",
      "    \"action_input\": \"/Users/tpeterson/Library/CloudStorage/GoogleDrive-trenten.peterson@gmail.com/My Drive/Obsidian/Trent-Work/TEST TEST.md\"\n",
      "}\u001b[0min get summary tool\n",
      "Chunk 1 has 5991 tokens.\n",
      "Chunk 2 has 5995 tokens.\n",
      "Chunk 3 has 2010 tokens.\n",
      "Chunk 1 has 2439 tokens.\n",
      "\n",
      "Observation: \u001b[36;1m\u001b[1;3mMEETING:\n",
      "\n",
      "Meeting Participants:\n",
      "- Unknown\n",
      "- Last Name, First Name\n",
      "- Last Name, First Name\n",
      "\n",
      "BLUF: The meeting focused on decisions and plans regarding the use of shell frameworks and card frameworks for the PM and EHR product portfolios. The need to upgrade the PM shell and the desire to share cards between frameworks were discussed. Different perspectives for different roles and the importance of considering role-based views versus portfolio-based views were emphasized. The investment is currently focused on the card framework, with plans to integrate it with the app shell later. The idea of providing an SDK for third-party use was mentioned as a valuable opportunity.\n",
      "\n",
      "SUMMARY: The purpose of the meeting was to discuss decisions and plans regarding the use of shell frameworks and card frameworks for the PM and EHR product portfolios. The main decisions to be made were whether to invest in one or a combination of frameworks, which frameworks to use as a base for investment, and how to implement the chosen frameworks. The need for these decisions arose from the need to upgrade the PM shell and the desire to share cards between frameworks. The discussion also touched on the importance of considering role-based views versus portfolio-based views when making these decisions. The level of sharing required for a roles-based view was emphasized, with different levels of abstraction and functionality discussed. It was agreed that different roles require different perspectives, and this should be considered in the design and configuration. The goal is to go deeper in terms of sharing components and avoid rebuilding them. The confusion between card frameworks and app shells was addressed, and the need for clarity in decision-making was emphasized. The investment is currently focused on the card framework, with plans to integrate it with the app shell later. It was acknowledged that this project will require multiple phases and strategic decisions. The idea of creating an SDK mechanism for third-party use was also mentioned as a valuable opportunity. The speaker discussed the benefits of providing an SDK to external organizations and onboarding new engineering teams quickly. They emphasized the difficulty of finding full stack engineers and highlighted the value of having a standardized framework for building and populating cards. The speaker mentioned that this framework would benefit Tim, Trent, and others when discussing the need for new shared cards. The meeting concluded with the need to make the right first choice in terms of how much sharing is required for a roles-based view.\u001b[0m\n",
      "\u001b[32;1m\u001b[1;3m\u001b[0m\n",
      "\n",
      "\u001b[1m> Finished chain.\u001b[0m\n"
     ]
    },
    {
     "data": {
      "text/plain": [
       "{'input': \"Summarize this meeting  '/Users/tpeterson/Library/CloudStorage/GoogleDrive-trenten.peterson@gmail.com/My Drive/Obsidian/Trent-Work/TEST TEST.md'\",\n",
       " 'chat_history': [],\n",
       " 'output': 'MEETING:\\n\\nMeeting Participants:\\n- Unknown\\n- Last Name, First Name\\n- Last Name, First Name\\n\\nBLUF: The meeting focused on decisions and plans regarding the use of shell frameworks and card frameworks for the PM and EHR product portfolios. The need to upgrade the PM shell and the desire to share cards between frameworks were discussed. Different perspectives for different roles and the importance of considering role-based views versus portfolio-based views were emphasized. The investment is currently focused on the card framework, with plans to integrate it with the app shell later. The idea of providing an SDK for third-party use was mentioned as a valuable opportunity.\\n\\nSUMMARY: The purpose of the meeting was to discuss decisions and plans regarding the use of shell frameworks and card frameworks for the PM and EHR product portfolios. The main decisions to be made were whether to invest in one or a combination of frameworks, which frameworks to use as a base for investment, and how to implement the chosen frameworks. The need for these decisions arose from the need to upgrade the PM shell and the desire to share cards between frameworks. The discussion also touched on the importance of considering role-based views versus portfolio-based views when making these decisions. The level of sharing required for a roles-based view was emphasized, with different levels of abstraction and functionality discussed. It was agreed that different roles require different perspectives, and this should be considered in the design and configuration. The goal is to go deeper in terms of sharing components and avoid rebuilding them. The confusion between card frameworks and app shells was addressed, and the need for clarity in decision-making was emphasized. The investment is currently focused on the card framework, with plans to integrate it with the app shell later. It was acknowledged that this project will require multiple phases and strategic decisions. The idea of creating an SDK mechanism for third-party use was also mentioned as a valuable opportunity. The speaker discussed the benefits of providing an SDK to external organizations and onboarding new engineering teams quickly. They emphasized the difficulty of finding full stack engineers and highlighted the value of having a standardized framework for building and populating cards. The speaker mentioned that this framework would benefit Tim, Trent, and others when discussing the need for new shared cards. The meeting concluded with the need to make the right first choice in terms of how much sharing is required for a roles-based view.'}"
      ]
     },
     "execution_count": 2,
     "metadata": {},
     "output_type": "execute_result"
    }
   ],
   "source": [
    "from advancedmd.tools.bot import Meeting_Bot\n",
    "\n",
    "m_bot = Meeting_Bot()\n",
    "m_bot._run(\"Summarize this meeting  '/Users/tpeterson/Library/CloudStorage/GoogleDrive-trenten.peterson@gmail.com/My Drive/Obsidian/Trent-Work/TEST TEST.md'\")"
   ]
  }
 ],
 "metadata": {
  "kernelspec": {
   "display_name": "Python 3",
   "language": "python",
   "name": "python3"
  },
  "language_info": {
   "codemirror_mode": {
    "name": "ipython",
    "version": 3
   },
   "file_extension": ".py",
   "mimetype": "text/x-python",
   "name": "python",
   "nbconvert_exporter": "python",
   "pygments_lexer": "ipython3",
   "version": "3.11.3"
  },
  "orig_nbformat": 4
 },
 "nbformat": 4,
 "nbformat_minor": 2
}
